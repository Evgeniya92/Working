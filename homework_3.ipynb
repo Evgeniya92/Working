{
 "cells": [
  {
   "cell_type": "code",
   "execution_count": 96,
   "metadata": {},
   "outputs": [
    {
     "name": "stdout",
     "output_type": "stream",
     "text": [
      "{98, 35, 15, 213, 54, 119}\n"
     ]
    }
   ],
   "source": [
    "#Задание 1\n",
    "\n",
    "\n",
    "ids = {'user1': [213, 213, 213, 15, 213],\n",
    "'user2': [54, 54, 119, 119, 119],\n",
    "'user3': [213, 98, 98, 35]}\n",
    "\n",
    "\n",
    "n_ids = ids.values()\n",
    "newlist = []\n",
    "for i in n_ids:\n",
    "    for j in i:\n",
    "        newlist.append(j)\n",
    "print(set(newlist))\n",
    "\n"
   ]
  },
  {
   "cell_type": "code",
   "execution_count": 99,
   "metadata": {},
   "outputs": [
    {
     "name": "stdout",
     "output_type": "stream",
     "text": [
      "Поисковых запросов из 3 слов: 44.44%\n",
      "Поисковых запросов из 2 слов: 33.33%\n",
      "Поисковых запросов из 4 слов: 11.11%\n",
      "Поисковых запросов из 5 слов: 11.11%\n"
     ]
    }
   ],
   "source": [
    "#Задание 2\n",
    "\n",
    "queries = ['смотреть сериалы онлайн',\n",
    "'новости спорта',\n",
    "'афиша кино',\n",
    "'курс доллара',\n",
    "'сериалы этим летом',\n",
    "'курс по питону',\n",
    "'сериалы про спорт',\n",
    "'новости экономики и политики',\n",
    "'рекордное количество запросов по питону']\n",
    "\n",
    "storage = {}\n",
    "\n",
    "for i in queries:\n",
    "    words = i.split()\n",
    "    if len(words) in storage.keys():\n",
    "        storage[len(words)] += 1\n",
    "    else:\n",
    "        storage.update({len(words): 1})\n",
    "\n",
    "for key, value in storage.items():\n",
    "    percentage = round((value / len(queries)) * 100, 2)\n",
    "    print(f'Поисковых запросов из {key} слов: {percentage}%')\n",
    "\n"
   ]
  },
  {
   "cell_type": "code",
   "execution_count": 82,
   "metadata": {},
   "outputs": [
    {
     "name": "stdout",
     "output_type": "stream",
     "text": [
      "vk {'revenue': 103, 'cost': 98, 'ROI': 5.1}\n",
      "yandex {'revenue': 179, 'cost': 153, 'ROI': 16.99}\n",
      "facebook {'revenue': 103, 'cost': 110, 'ROI': -6.36}\n",
      "adwords {'revenue': 35, 'cost': 34, 'ROI': 2.94}\n",
      "twitter {'revenue': 11, 'cost': 24, 'ROI': -54.17}\n"
     ]
    }
   ],
   "source": [
    "#Задание 3\n",
    "\n",
    "results = {'vk': {'revenue': 103, 'cost': 98},\n",
    "'yandex': {'revenue': 179, 'cost': 153},\n",
    "'facebook': {'revenue': 103, 'cost': 110},\n",
    "'adwords': {'revenue': 35, 'cost': 34},\n",
    "'twitter': {'revenue': 11, 'cost': 24},}\n",
    "\n",
    "\n",
    "for key, value in results.items():\n",
    "    value['ROI'] = round(((value['revenue'] / value['cost']) - 1)*100 , 2)\n",
    "    print(key, value)"
   ]
  },
  {
   "cell_type": "code",
   "execution_count": 100,
   "metadata": {},
   "outputs": [
    {
     "name": "stdout",
     "output_type": "stream",
     "text": [
      "Максимальный объем продаж на рекламном канале:  vk\n"
     ]
    }
   ],
   "source": [
    "#Задание 4\n",
    "\n",
    "stats = {'facebook': 55, 'yandex': 115, 'vk': 1120, 'google': 199, 'email': 42, 'ok': 98}\n",
    "max_n = max(stats.items(), key=lambda x: x[1])\n",
    "print('Максимальный объем продаж на рекламном канале: ', max_n[0])"
   ]
  },
  {
   "cell_type": "code",
   "execution_count": null,
   "metadata": {},
   "outputs": [],
   "source": []
  },
  {
   "cell_type": "code",
   "execution_count": null,
   "metadata": {},
   "outputs": [],
   "source": []
  }
 ],
 "metadata": {
  "kernelspec": {
   "display_name": "Python 3",
   "language": "python",
   "name": "python3"
  },
  "language_info": {
   "codemirror_mode": {
    "name": "ipython",
    "version": 3
   },
   "file_extension": ".py",
   "mimetype": "text/x-python",
   "name": "python",
   "nbconvert_exporter": "python",
   "pygments_lexer": "ipython3",
   "version": "3.8.5"
  }
 },
 "nbformat": 4,
 "nbformat_minor": 4
}
