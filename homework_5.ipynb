{
 "cells": [
  {
   "cell_type": "code",
   "execution_count": 83,
   "metadata": {},
   "outputs": [],
   "source": [
    "#Задание 1. Переведите содержимое файла purchase_log.txt в словарь purchases вида: {‘1840e0b9d4’: ‘Продукты’, …}\n",
    "\n",
    "import os\n",
    "import json\n"
   ]
  },
  {
   "cell_type": "code",
   "execution_count": 84,
   "metadata": {},
   "outputs": [],
   "source": [
    " new_dict={}\n",
    "    \n",
    "with open('purchase_log.txt', encoding='utf-8') as f:\n",
    "        for line in f:\n",
    "            line = line.strip()\n",
    "            dict_ = json.loads(line)\n",
    "            #print(dict_)\n",
    "            key=dict_['user_id']\n",
    "            value=dict_['category']\n",
    "            if key!='user_id':\n",
    "                new_dict.setdefault(key,value)\n",
    "                #print(new_dict)"
   ]
  },
  {
   "cell_type": "code",
   "execution_count": 69,
   "metadata": {},
   "outputs": [
    {
     "name": "stdout",
     "output_type": "stream",
     "text": [
      "purchase_log.txt\n"
     ]
    }
   ],
   "source": [
    "for file in os.listdir('C:\\\\Users\\\\Jane\\\\Desktop\\\\my_work\\\\my'):\n",
    "    if 'purchase_log.txt' in file:\n",
    "        print(file)"
   ]
  },
  {
   "cell_type": "code",
   "execution_count": 86,
   "metadata": {
    "scrolled": true
   },
   "outputs": [
    {
     "name": "stdout",
     "output_type": "stream",
     "text": [
      "C:\\Users\\Jane\\Desktop\\my_work\\my ['.git', '.ipynb_checkpoints'] ['homework_1.ipynb', 'homework_2.ipynb', 'homework_3.ipynb', 'homework_4-Copy1.ipynb', 'homework_4.ipynb', 'homework_5.ipynb', 'purchase_log.txt', 'sh.exe.stackdump', 'visit_log.csv', 'тренажер.ipynb']\n",
      "C:\\Users\\Jane\\Desktop\\my_work\\my\\.git ['hooks', 'info', 'logs', 'objects', 'refs'] ['COMMIT_EDITMSG', 'config', 'description', 'HEAD', 'index']\n",
      "C:\\Users\\Jane\\Desktop\\my_work\\my\\.git\\hooks [] ['applypatch-msg.sample', 'commit-msg.sample', 'fsmonitor-watchman.sample', 'post-update.sample', 'pre-applypatch.sample', 'pre-commit.sample', 'pre-merge-commit.sample', 'pre-push.sample', 'pre-rebase.sample', 'pre-receive.sample', 'prepare-commit-msg.sample', 'push-to-checkout.sample', 'update.sample']\n",
      "C:\\Users\\Jane\\Desktop\\my_work\\my\\.git\\info [] ['exclude']\n",
      "C:\\Users\\Jane\\Desktop\\my_work\\my\\.git\\logs ['refs'] ['HEAD']\n",
      "C:\\Users\\Jane\\Desktop\\my_work\\my\\.git\\logs\\refs ['heads', 'remotes'] []\n",
      "C:\\Users\\Jane\\Desktop\\my_work\\my\\.git\\logs\\refs\\heads [] ['master']\n",
      "C:\\Users\\Jane\\Desktop\\my_work\\my\\.git\\logs\\refs\\remotes ['origin'] []\n",
      "C:\\Users\\Jane\\Desktop\\my_work\\my\\.git\\logs\\refs\\remotes\\origin [] ['master']\n",
      "C:\\Users\\Jane\\Desktop\\my_work\\my\\.git\\objects ['0e', '1e', '22', '2e', '30', '49', '58', '5a', '68', '6e', '72', '73', '76', '8d', '94', '9d', 'a6', 'd2', 'd3', 'd6', 'e2', 'f6', 'info', 'pack'] []\n",
      "C:\\Users\\Jane\\Desktop\\my_work\\my\\.git\\objects\\0e [] ['714fa111246c258e918d285539e7d56e9f6164']\n",
      "C:\\Users\\Jane\\Desktop\\my_work\\my\\.git\\objects\\1e [] ['fa20e9de464d120210748d18634a09387e899b']\n",
      "C:\\Users\\Jane\\Desktop\\my_work\\my\\.git\\objects\\22 [] ['a2f817f1eedc9c2e891aad032729136e8d448a']\n",
      "C:\\Users\\Jane\\Desktop\\my_work\\my\\.git\\objects\\2e [] ['9b508171289dc522a855f5f3ef479df254f8ab']\n",
      "C:\\Users\\Jane\\Desktop\\my_work\\my\\.git\\objects\\30 [] ['1ae4771d6eadbf7faead712cd904fbc682508b']\n",
      "C:\\Users\\Jane\\Desktop\\my_work\\my\\.git\\objects\\49 [] ['ba3a6f6496b0674857c308aaf56a24cbdd5a09']\n",
      "C:\\Users\\Jane\\Desktop\\my_work\\my\\.git\\objects\\58 [] ['d305f4d03db3a5ec5e702377c361566efd8e5e']\n",
      "C:\\Users\\Jane\\Desktop\\my_work\\my\\.git\\objects\\5a [] ['60c18f2904c5aa4591283be3348feb605f1b61']\n",
      "C:\\Users\\Jane\\Desktop\\my_work\\my\\.git\\objects\\68 [] ['dbd3305bff677c182e4a05fb3f820674ad38a3']\n",
      "C:\\Users\\Jane\\Desktop\\my_work\\my\\.git\\objects\\6e [] ['1de79a57316320557797bd908252f3c16e8370']\n",
      "C:\\Users\\Jane\\Desktop\\my_work\\my\\.git\\objects\\72 [] ['79afd901501f9a85dac31e934dbb7550f6e789']\n",
      "C:\\Users\\Jane\\Desktop\\my_work\\my\\.git\\objects\\73 [] ['79421dfe1829285c10b0fb4cf6087fa14724a5']\n",
      "C:\\Users\\Jane\\Desktop\\my_work\\my\\.git\\objects\\76 [] ['088a199621a98b1cda9a4be7c2dbece3a421a7']\n",
      "C:\\Users\\Jane\\Desktop\\my_work\\my\\.git\\objects\\8d [] ['bf6e637e85b070037e16da265f8571d68343c7']\n",
      "C:\\Users\\Jane\\Desktop\\my_work\\my\\.git\\objects\\94 [] ['a4a89a43a626e63e1be7de5c5d1813b32b9dc6']\n",
      "C:\\Users\\Jane\\Desktop\\my_work\\my\\.git\\objects\\9d [] ['ee63082de9ec80addae57a5b9fa07c2c49446c']\n",
      "C:\\Users\\Jane\\Desktop\\my_work\\my\\.git\\objects\\a6 [] ['972fef3058d3091a0a4b321e0d62cb34a202e1']\n",
      "C:\\Users\\Jane\\Desktop\\my_work\\my\\.git\\objects\\d2 [] ['94ec27ef68c243f063b6150d4d9e27b55e413d']\n",
      "C:\\Users\\Jane\\Desktop\\my_work\\my\\.git\\objects\\d3 [] ['b6e86fe2a079fb7782cb4a2216fe3d7b5021d9']\n",
      "C:\\Users\\Jane\\Desktop\\my_work\\my\\.git\\objects\\d6 [] ['5a475537f42036a5f226ad50b518feb36a0834']\n",
      "C:\\Users\\Jane\\Desktop\\my_work\\my\\.git\\objects\\e2 [] ['95c732e3910de2c4c2364ef7ba67db6b7b7f00']\n",
      "C:\\Users\\Jane\\Desktop\\my_work\\my\\.git\\objects\\f6 [] ['159529cab229ac268e8ed2c4350ca678dda968']\n",
      "C:\\Users\\Jane\\Desktop\\my_work\\my\\.git\\objects\\info [] []\n",
      "C:\\Users\\Jane\\Desktop\\my_work\\my\\.git\\objects\\pack [] []\n",
      "C:\\Users\\Jane\\Desktop\\my_work\\my\\.git\\refs ['heads', 'remotes', 'tags'] []\n",
      "C:\\Users\\Jane\\Desktop\\my_work\\my\\.git\\refs\\heads [] ['master']\n",
      "C:\\Users\\Jane\\Desktop\\my_work\\my\\.git\\refs\\remotes ['origin'] []\n",
      "C:\\Users\\Jane\\Desktop\\my_work\\my\\.git\\refs\\remotes\\origin [] ['master']\n",
      "C:\\Users\\Jane\\Desktop\\my_work\\my\\.git\\refs\\tags [] []\n",
      "C:\\Users\\Jane\\Desktop\\my_work\\my\\.ipynb_checkpoints [] ['homework_5-checkpoint.ipynb']\n"
     ]
    }
   ],
   "source": [
    "for root, directory, file in os.walk('C:\\\\Users\\\\Jane\\\\Desktop\\\\my_work\\\\my'):\n",
    "    print(root, directory, file)"
   ]
  },
  {
   "cell_type": "code",
   "execution_count": 92,
   "metadata": {},
   "outputs": [],
   "source": [
    "# Задание 2  \n",
    "\n",
    "with open('visit_log.csv', 'r') as f, open('funnel.csv', 'w') as w_f:\n",
    "        for row in f:\n",
    "            line_list=row.strip().split(',')\n",
    "            if line_list[0] in new_dict.keys():\n",
    "                line_list.append(new_dict[line_list[0]])\n",
    "                add_line=','.join(line_list)\n",
    "            elif line_list[0]=='user_id':\n",
    "                line_list.append('category')\n",
    "                add_line=','.join(line_list)\n",
    "            else:\n",
    "                add_line=','.join(line_list)\n",
    "            w_f.write(add_line+'\\\\n')          "
   ]
  },
  {
   "cell_type": "code",
   "execution_count": null,
   "metadata": {},
   "outputs": [],
   "source": []
  }
 ],
 "metadata": {
  "kernelspec": {
   "display_name": "Python 3",
   "language": "python",
   "name": "python3"
  },
  "language_info": {
   "codemirror_mode": {
    "name": "ipython",
    "version": 3
   },
   "file_extension": ".py",
   "mimetype": "text/x-python",
   "name": "python",
   "nbconvert_exporter": "python",
   "pygments_lexer": "ipython3",
   "version": "3.8.5"
  }
 },
 "nbformat": 4,
 "nbformat_minor": 4
}
