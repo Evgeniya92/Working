{
 "cells": [
  {
   "cell_type": "code",
   "execution_count": 1,
   "metadata": {},
   "outputs": [
    {
     "data": {
      "text/plain": [
       "2"
      ]
     },
     "execution_count": 1,
     "metadata": {},
     "output_type": "execute_result"
    }
   ],
   "source": [
    "1+1"
   ]
  },
  {
   "cell_type": "code",
   "execution_count": 23,
   "metadata": {},
   "outputs": [
    {
     "name": "stdout",
     "output_type": "stream",
     "text": [
      "Фраза 1 длиннее фразы 2\n"
     ]
    }
   ],
   "source": [
    "#Задание 1\n",
    "\n",
    "phrase_1 = 'Насколько проще было бы писать программы, если бы не заказчики'\n",
    "phrase_2 = '640Кб должно хватить для любых задач. Билл Гейтс (по легенде)'\n",
    "\n",
    "if len(phrase_1) > len(phrase_2):\n",
    "    print('Фраза 1 длиннее фразы 2')\n"
   ]
  },
  {
   "cell_type": "code",
   "execution_count": 27,
   "metadata": {},
   "outputs": [
    {
     "name": "stdout",
     "output_type": "stream",
     "text": [
      "Фраза 2 длиннее фразы 1\n"
     ]
    }
   ],
   "source": [
    "phrase_1 = '640Кб должно хватить для любых задач. Билл Гейтс (по легенде)'\n",
    "phrase_2 = 'Насколько проще было бы писать программы, если бы не заказчики'\n",
    "\n",
    "if len(phrase_1) > len(phrase_2):\n",
    "    print('Фраза 1 длиннее фразы 2')\n",
    "elif len(phrase_2) > len(phrase_1):\n",
    "    print('Фраза 2 длиннее фразы 1')\n",
    "elif len(phrase_1) == len(phrase_2):\n",
    "    print('Фразы равной длины')"
   ]
  },
  {
   "cell_type": "code",
   "execution_count": 28,
   "metadata": {},
   "outputs": [
    {
     "name": "stdout",
     "output_type": "stream",
     "text": [
      "Фразы равной длины\n"
     ]
    }
   ],
   "source": [
    "phrase_1 = 'Насколько проще было бы писать программы, если бы не заказчики'\n",
    "phrase_2 = 'Насколько проще было бы писать программы, если бы не заказчики'\n",
    "\n",
    "if len(phrase_1) > len(phrase_2):\n",
    "    print('Фраза 1 длиннее фразы 2')\n",
    "elif len(phrase_2) > len(phrase_1):\n",
    "    print('Фраза 2 длиннее фразы 1')\n",
    "elif len(phrase_1) == len(phrase_2):\n",
    "    print('Фразы равной длины')"
   ]
  },
  {
   "cell_type": "code",
   "execution_count": 24,
   "metadata": {},
   "outputs": [
    {
     "name": "stdout",
     "output_type": "stream",
     "text": [
      "Високосный год\n"
     ]
    }
   ],
   "source": [
    "#Задание 2\n",
    "\n",
    "year=2020\n",
    "\n",
    "if year%4==0 and year%100!=0 or year%400==0:\n",
    "    print('Високосный год')\n",
    "if year %4!=0:\n",
    "    print('Обычный год')\n"
   ]
  },
  {
   "cell_type": "code",
   "execution_count": 26,
   "metadata": {},
   "outputs": [
    {
     "name": "stdout",
     "output_type": "stream",
     "text": [
      "Обычный год\n"
     ]
    }
   ],
   "source": [
    "year = 2019\n",
    "if year%4==0 and year%100!=0 or year%400==0:\n",
    "    print('Високосный год')\n",
    "\n",
    "else:print('Обычный год')"
   ]
  },
  {
   "cell_type": "code",
   "execution_count": 53,
   "metadata": {},
   "outputs": [
    {
     "name": "stdout",
     "output_type": "stream",
     "text": [
      "Ваш знак зодиака: Стрелец\n"
     ]
    }
   ],
   "source": [
    "#Введите_день:   \n",
    "date = 1\n",
    "#Введите месяц: \n",
    "month = 'декабрь'\n",
    "\n",
    "if(date>=21 and date<=31 and month=='март') or(month=='апрель' and date>=1 and date<=19):\n",
    "    print('Ваш знак зодиака: Овен')   \n",
    "    \n",
    "elif(date>=21 and date<=30 and month=='апрель') or(month=='май' and date>=1 and date<=20):\n",
    "    print('Ваш знак зодиака: Телец')\n",
    "    \n",
    "elif(date>=20 and date <=31 and month=='май') or(month=='июнь' and date>=1 and date<=21):\n",
    "    print('Ваш знак зодиака: Близнецы')\n",
    "    \n",
    "elif(date>=22 and date<=30 and month=='июнь') or(month=='июль' and date>=1 and date<=22):\n",
    "    print('Ваш знак зодиака: Рак')\n",
    "    \n",
    "elif(date>=23 and date<=31 and month=='июль') or(month=='август' and date>=1 and date<=22):\n",
    "    print ('Ваш знак зодиака: Лев')\n",
    "\n",
    "elif(date>=23 and date<=30 and month=='август') or(month=='сентябрь' and date>=1 and date<=22):\n",
    "    print('Ваш знак зодиака: Дева')\n",
    "    \n",
    "elif(date>=23 and date<=31 and month=='сентябрь') or(month=='октябрь' and date>=1 and date<=23):\n",
    "    print('Ваш знак зодиака: Весы')\n",
    "    \n",
    "elif(date>=24 and date<=31 and month=='октябрь') or(month=='ноябрь' and date>=1 and date<=22):\n",
    "    print('Ваш знак зодиака: Скорпион')\n",
    "    \n",
    "elif(date>=23 and date<=30 and month=='ноябрь') or(month=='декабрь' and date>=1 and date<=21):\n",
    "    print ('Ваш знак зодиака: Стрелец')\n",
    "    \n",
    "elif(date>=22 and date<=31 and month=='декабрь') or(month=='январь' and date>=1 and date<=20):\n",
    "    print ('Ваш знак зодиака: Козерог')\n",
    "    \n",
    "elif(date>=21 and date<=31 and month=='январь') or(month=='февраль' and date>=1 and date<=18):\n",
    "    print('Ваш знак зодиака: Водолей')\n",
    "    \n",
    "elif(date>=19 and date<=29 and month=='февраль') or(month=='март' and date>=1 and date<=20):\n",
    "    print('Ваш знак зодиака: Водолей')"
   ]
  },
  {
   "cell_type": "markdown",
   "metadata": {},
   "source": [
    "\n"
   ]
  },
  {
   "cell_type": "code",
   "execution_count": 56,
   "metadata": {},
   "outputs": [
    {
     "name": "stdout",
     "output_type": "stream",
     "text": [
      "Упаковка для лыж\n"
     ]
    }
   ],
   "source": [
    "#Задание 4\n",
    "\n",
    "width = 10\n",
    "length = 205\n",
    "height = 5\n",
    "\n",
    "if(length>=200):\n",
    "    print('Упаковка для лыж')\n",
    "elif(width<15 and length<15 and height<15):\n",
    "    print('Коробка №1')\n",
    "elif(50>width>15 or 50>length>15 or 50>height>15):\n",
    "    print('Коробка №2')\n",
    "    \n",
    "else: print('Стандартная коробка №3')"
   ]
  },
  {
   "cell_type": "code",
   "execution_count": 57,
   "metadata": {},
   "outputs": [
    {
     "name": "stdout",
     "output_type": "stream",
     "text": [
      "Коробка №2\n"
     ]
    }
   ],
   "source": [
    "width = 60\n",
    "length = 60\n",
    "height = 5\n",
    "\n",
    "if(length>=200):\n",
    "    print('Упаковка для лыж')\n",
    "elif(width<15 and length<15 and height<15):\n",
    "    print('Коробка №1')\n",
    "elif(50>width>15 or 50>length>15 or 50>height>15):\n",
    "    print('Коробка №2')\n",
    "    \n",
    "else: print('Стандартная коробка №3')"
   ]
  },
  {
   "cell_type": "code",
   "execution_count": null,
   "metadata": {},
   "outputs": [],
   "source": []
  }
 ],
 "metadata": {
  "kernelspec": {
   "display_name": "Python 3",
   "language": "python",
   "name": "python3"
  },
  "language_info": {
   "codemirror_mode": {
    "name": "ipython",
    "version": 3
   },
   "file_extension": ".py",
   "mimetype": "text/x-python",
   "name": "python",
   "nbconvert_exporter": "python",
   "pygments_lexer": "ipython3",
   "version": "3.8.5"
  }
 },
 "nbformat": 4,
 "nbformat_minor": 4
}
