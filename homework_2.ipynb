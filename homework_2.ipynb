{
 "cells": [
  {
   "cell_type": "code",
   "execution_count": 1,
   "metadata": {},
   "outputs": [
    {
     "data": {
      "text/plain": [
       "'es'"
      ]
     },
     "execution_count": 1,
     "metadata": {},
     "output_type": "execute_result"
    }
   ],
   "source": [
    "#Задание 1\n",
    "\n",
    "word = 'test'\n",
    "\n",
    "word[1:3]\n"
   ]
  },
  {
   "cell_type": "code",
   "execution_count": 2,
   "metadata": {},
   "outputs": [
    {
     "data": {
      "text/plain": [
       "'t'"
      ]
     },
     "execution_count": 2,
     "metadata": {},
     "output_type": "execute_result"
    }
   ],
   "source": [
    "word = 'testing'\n",
    "\n",
    "word[-4]"
   ]
  },
  {
   "cell_type": "code",
   "execution_count": 10,
   "metadata": {},
   "outputs": [
    {
     "name": "stdout",
     "output_type": "stream",
     "text": [
      "mm\n"
     ]
    }
   ],
   "source": [
    "word = 'commit'\n",
    "if(len(word)%2==0):\n",
    "    print(word[len(word)//2-1:len(word)//2+1])\n",
    "else: print(word[len(word)//2])"
   ]
  },
  {
   "cell_type": "code",
   "execution_count": 11,
   "metadata": {},
   "outputs": [
    {
     "name": "stdout",
     "output_type": "stream",
     "text": [
      "t\n"
     ]
    }
   ],
   "source": [
    "word = 'fatch'\n",
    "if(len(word)%2==0):\n",
    "    print(word[len(word)//2-1:len(word)//2+1])\n",
    "else: print(word[len(word)//2])"
   ]
  },
  {
   "cell_type": "code",
   "execution_count": 5,
   "metadata": {},
   "outputs": [
    {
     "name": "stdout",
     "output_type": "stream",
     "text": [
      "Введите число: 3\n",
      "Введите число: 4\n",
      "Введите число: 0\n",
      "Сумма введенных чисел:  7\n"
     ]
    }
   ],
   "source": [
    "#Задание 2\n",
    "\n",
    "a = 0\n",
    "sum_a = 0\n",
    "\n",
    "while True:\n",
    "    a = int(input(\"Введите число: \"))\n",
    "    if a == 0:\n",
    "        break\n",
    "    else:\n",
    "        sum_a += a\n",
    "    \n",
    "print('Сумма введенных чисел: ', sum_a)"
   ]
  },
  {
   "cell_type": "code",
   "execution_count": 6,
   "metadata": {},
   "outputs": [
    {
     "name": "stdout",
     "output_type": "stream",
     "text": [
      "Идеальная пара:  Peter и Kate\n",
      "Идеальная пара:  Alex и Liza\n",
      "Идеальная пара:  John и Kira\n",
      "Идеальная пара:  Arthur и Emma\n",
      "Идеальная пара:  Richard и Trisha\n"
     ]
    }
   ],
   "source": [
    "#Задание 3\n",
    "\n",
    "boys = ['Peter', 'Alex', 'John', 'Arthur', 'Richard']\n",
    "girls = ['Kate', 'Liza', 'Kira', 'Emma', 'Trisha']\n",
    "\n",
    "sorted(boys)\n",
    "sorted(girls)\n",
    "\n",
    "if len(boys) == len(girls):\n",
    "    print('Идеальная пара: ', boys[0] , 'и', girls [0])\n",
    "    print('Идеальная пара: ', boys[1] , 'и', girls [1])\n",
    "    print('Идеальная пара: ', boys[2] , 'и', girls [2])\n",
    "    print('Идеальная пара: ', boys[3] , 'и', girls [3])\n",
    "    print('Идеальная пара: ', boys[4] , 'и', girls [4])\n",
    "    \n",
    "else: print('Внимание, кто-то может остаться без пары!')    "
   ]
  },
  {
   "cell_type": "code",
   "execution_count": 12,
   "metadata": {},
   "outputs": [
    {
     "name": "stdout",
     "output_type": "stream",
     "text": [
      "Идеальная пара:  Alex и Emma\n",
      "Идеальная пара:  Arthur и Kate\n",
      "Идеальная пара:  John и Kira\n",
      "Идеальная пара:  Peter и Liza\n",
      "Идеальная пара:  Richard и Trisha\n"
     ]
    }
   ],
   "source": [
    "boys = ['Peter', 'Alex', 'John', 'Arthur', 'Richard']\n",
    "girls = ['Kate', 'Liza', 'Kira', 'Emma', 'Trisha']\n",
    "\n",
    "sorted(boys)\n",
    "sorted(girls)\n",
    "\n",
    "name_list = zip(sorted(boys), sorted(girls))\n",
    "\n",
    "if len(boys) == len(girls):\n",
    "    for b in name_list:\n",
    "         print('Идеальная пара: ' , b[0] ,'и', b[1])    \n",
    "    \n",
    "else: print('Внимание, кто-то может остаться без пары!') "
   ]
  },
  {
   "cell_type": "code",
   "execution_count": 8,
   "metadata": {},
   "outputs": [
    {
     "name": "stdout",
     "output_type": "stream",
     "text": [
      "Внимание, кто-то может остаться без пары!\n"
     ]
    }
   ],
   "source": [
    "boys = ['Peter', 'Alex', 'John', 'Arthur', 'Richard','Michael']\n",
    "girls = ['Kate', 'Liza', 'Kira', 'Emma', 'Trisha']\n",
    "\n",
    "sorted(boys)\n",
    "sorted(girls)\n",
    "\n",
    "name_list = zip(sorted(boys), sorted(girls))\n",
    "\n",
    "if len(boys) == len(girls):\n",
    "    for b in name_list:\n",
    "         print('Идеальная пара: ' , b[0] ,'и', b[1])    \n",
    "    \n",
    "else: print('Внимание, кто-то может остаться без пары!') "
   ]
  },
  {
   "cell_type": "code",
   "execution_count": 9,
   "metadata": {},
   "outputs": [
    {
     "name": "stdout",
     "output_type": "stream",
     "text": [
      "Thailand - 23.9 C\n",
      "Germany - 13.8 C\n",
      "Russia - 3.7 C\n",
      "Poland - 12.0 C\n"
     ]
    }
   ],
   "source": [
    "#Задание 4\n",
    "\n",
    "temperature_list = [ ['Thailand', [75.2, 77, 78.8, 73.4, 68, 75.2, 77]],\n",
    "                ['Germany', [57.2, 55.4, 59, 59, 53.6]],\n",
    "                ['Russia', [35.6, 37.4, 39.2, 41, 42.8, 39.2, 35.6]],\n",
    "                ['Poland', [50, 50, 53.6, 57.2, 55.4, 55.4]]]\n",
    "\n",
    "for b in temperature_list:\n",
    "    print(b[0], '-', round((sum(b[1]) / len(b[1]) - 32) / 1.8, 1), 'C')"
   ]
  },
  {
   "cell_type": "code",
   "execution_count": null,
   "metadata": {},
   "outputs": [],
   "source": []
  }
 ],
 "metadata": {
  "kernelspec": {
   "display_name": "Python 3",
   "language": "python",
   "name": "python3"
  },
  "language_info": {
   "codemirror_mode": {
    "name": "ipython",
    "version": 3
   },
   "file_extension": ".py",
   "mimetype": "text/x-python",
   "name": "python",
   "nbconvert_exporter": "python",
   "pygments_lexer": "ipython3",
   "version": "3.8.5"
  }
 },
 "nbformat": 4,
 "nbformat_minor": 4
}
